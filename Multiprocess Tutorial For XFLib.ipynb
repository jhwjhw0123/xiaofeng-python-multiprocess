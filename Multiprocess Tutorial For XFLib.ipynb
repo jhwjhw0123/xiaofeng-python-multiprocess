{
 "cells": [
  {
   "cell_type": "markdown",
   "metadata": {},
   "source": [
    "## Import all functions in XFLIb"
   ]
  },
  {
   "cell_type": "code",
   "execution_count": 1,
   "metadata": {
    "collapsed": true
   },
   "outputs": [],
   "source": [
    "from XFLib import *\n",
    "import time"
   ]
  },
  {
   "cell_type": "markdown",
   "metadata": {},
   "source": [
    "## define a function for multiprocessing"
   ]
  },
  {
   "cell_type": "code",
   "execution_count": 2,
   "metadata": {
    "collapsed": true
   },
   "outputs": [],
   "source": [
    "def func_for_multiprocess(a, b, c):\n",
    "    f = 1 * a + b *c\n",
    "    time.sleep(1)\n",
    "    return a, b, c, f"
   ]
  },
  {
   "cell_type": "markdown",
   "metadata": {},
   "source": [
    "## execute the function with multiprocess using different paramters, using mode = 1"
   ]
  },
  {
   "cell_type": "code",
   "execution_count": 3,
   "metadata": {},
   "outputs": [
    {
     "name": "stdout",
     "output_type": "stream",
     "text": [
      "\n",
      "func_for_multiprocess    Finished in 00:00:04                                                                                            \n"
     ]
    }
   ],
   "source": [
    "\"\"\"\n",
    "\n",
    "# below are default initializaiton paramters\n",
    "# max_thread controls the maximum number of parallel processes\n",
    "# process_start_duration controls the start duration between processes\n",
    "\n",
    "# max_cpu controls also controls the nunber of process such that if the cpu usage is higher than maxc_cpu, \n",
    "# no more new process will be started, setting it equal or higher than 100 will disable this control\n",
    "\n",
    "def __init__(self, max_thread=64, process_start_duration=0, \n",
    "                 max_cpu=95, servers=[])\n",
    "                 \n",
    "\"\"\"\n",
    "\n",
    "\"\"\"\n",
    "\n",
    "# below are default paramter for run function\n",
    "# object_func define the function for multiprocessing, function can be any name, in this case, func_for_multiprocess\n",
    "\n",
    "# mode controls the running type: \n",
    "#    0 for for loop, 1 for multiprocessing, 2 for map reduce (do not use! still under development)\n",
    "\n",
    "\n",
    "def run(self, object_func, mode=1, print_flag=True):\n",
    "\n",
    "\"\"\"\n",
    "\n",
    "# define multiprocessing class with some\n",
    "mp = MP(max_process=4, max_cpu=95)\n",
    "\n",
    "for i in range(10):\n",
    "    # give sum parameters as list, important !!! as list !!! list []!!!, not a single paramter\n",
    "    # mp.give(i) is wrong !!!, use mp.give([i]) !!!\n",
    "    # number of paramters give to MP should consist with number of input in multiprocess function\n",
    "    mp.give([i, i*2, i*3])\n",
    "    \n",
    "# this initiate the multiprocess\n",
    "mp.run(func_for_multiprocess, mode=1)"
   ]
  },
  {
   "cell_type": "markdown",
   "metadata": {},
   "source": [
    "## get return values from different process, labeled with sequencial order of different parameters"
   ]
  },
  {
   "cell_type": "code",
   "execution_count": 4,
   "metadata": {},
   "outputs": [
    {
     "data": {
      "text/plain": [
       "{0: [0, 0, 0, 0],\n",
       " 1: [1, 2, 3, 7],\n",
       " 2: [2, 4, 6, 26],\n",
       " 3: [3, 6, 9, 57],\n",
       " 4: [4, 8, 12, 100],\n",
       " 5: [5, 10, 15, 155],\n",
       " 6: [6, 12, 18, 222],\n",
       " 7: [7, 14, 21, 301],\n",
       " 8: [8, 16, 24, 392],\n",
       " 9: [9, 18, 27, 495]}"
      ]
     },
     "execution_count": 4,
     "metadata": {},
     "output_type": "execute_result"
    }
   ],
   "source": [
    "# you can then get the return values as dictionary with sequencially ordered keys\n",
    "mp.get()"
   ]
  },
  {
   "cell_type": "markdown",
   "metadata": {},
   "source": [
    "## you can also run the function with for loop using mode = 0"
   ]
  },
  {
   "cell_type": "code",
   "execution_count": 5,
   "metadata": {},
   "outputs": [
    {
     "name": "stdout",
     "output_type": "stream",
     "text": [
      "Finished in 00:00:10                                                                                            \n"
     ]
    }
   ],
   "source": [
    "mp = MP(max_process=4, max_cpu=95)\n",
    "for i in range(10):\n",
    "    mp.give([i, i*2, i*3])\n",
    "    \n",
    "mp.run(func_for_multiprocess, mode=0)"
   ]
  },
  {
   "cell_type": "code",
   "execution_count": 6,
   "metadata": {},
   "outputs": [
    {
     "data": {
      "text/plain": [
       "{0: [0, 0, 0, 0],\n",
       " 1: [1, 2, 3, 7],\n",
       " 2: [2, 4, 6, 26],\n",
       " 3: [3, 6, 9, 57],\n",
       " 4: [4, 8, 12, 100],\n",
       " 5: [5, 10, 15, 155],\n",
       " 6: [6, 12, 18, 222],\n",
       " 7: [7, 14, 21, 301],\n",
       " 8: [8, 16, 24, 392],\n",
       " 9: [9, 18, 27, 495]}"
      ]
     },
     "execution_count": 6,
     "metadata": {},
     "output_type": "execute_result"
    }
   ],
   "source": [
    "mp.get()"
   ]
  },
  {
   "cell_type": "code",
   "execution_count": null,
   "metadata": {
    "collapsed": true
   },
   "outputs": [],
   "source": []
  }
 ],
 "metadata": {
  "kernelspec": {
   "display_name": "Python 3",
   "language": "python",
   "name": "python3"
  },
  "language_info": {
   "codemirror_mode": {
    "name": "ipython",
    "version": 3
   },
   "file_extension": ".py",
   "mimetype": "text/x-python",
   "name": "python",
   "nbconvert_exporter": "python",
   "pygments_lexer": "ipython3",
   "version": "3.6.1"
  }
 },
 "nbformat": 4,
 "nbformat_minor": 2
}
